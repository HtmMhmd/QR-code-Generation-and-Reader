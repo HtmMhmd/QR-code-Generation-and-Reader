{
 "cells": [
  {
   "cell_type": "code",
   "execution_count": null,
   "metadata": {},
   "outputs": [],
   "source": [
    "from QRreader import QRCodeReader\n",
    "import cv2\n",
    "import numpy as np\n",
    "\n",
    "# Create a VideoCapture object to capture video from the camera\n",
    "cap = cv2.VideoCapture(0)\n",
    "\n",
    "# Create a QRCodeReader object\n",
    "reader = QRCodeReader(return_detections=True)\n",
    "\n",
    "while True:\n",
    "    # Read the frame from the camera\n",
    "    ret, frame = cap.read()\n",
    "\n",
    "    # Call the read_qr_code function with the frame\n",
    "    QR = reader.read_qr_code(image=frame)\n",
    "\n",
    "    try:\n",
    "        for qr_index in range(len(QR[0])):\n",
    "            decoded_content = QR[0][qr_index]\n",
    "            bounding_box = QR[1][qr_index]\n",
    "            #print(\"\\nDecoded Content:\", decoded_content)\n",
    "            #print(\"\\nBounding Box:\", bounding_box)\n",
    "            x_1, y_1, x_2, y_2  = np.uint16(bounding_box['bbox_xyxy'])\n",
    "            cv2.rectangle(frame, (x_1, y_1), (x_2, y_2), (0, 255, 0), 2)\n",
    "            cv2.putText(frame, decoded_content, (x_1, y_1 - 10), cv2.FONT_HERSHEY_SIMPLEX, 0.9, (0, 255, 0), 2)\n",
    "    except:\n",
    "        print(\"No QR code detected\")\n",
    "    \n",
    "    # Display the frame with the QR code\n",
    "    cv2.imshow('QR Code', frame)\n",
    "\n",
    "    # Break the loop if 'q' is pressed\n",
    "    if cv2.waitKey(1) & 0xFF == ord('q'):\n",
    "        break\n",
    "\n",
    "# Release the VideoCapture object and close the windows\n",
    "cap.release()\n",
    "cv2.destroyAllWindows()"
   ]
  }
 ],
 "metadata": {
  "kernelspec": {
   "display_name": "Python 3",
   "language": "python",
   "name": "python3"
  },
  "language_info": {
   "codemirror_mode": {
    "name": "ipython",
    "version": 3
   },
   "file_extension": ".py",
   "mimetype": "text/x-python",
   "name": "python",
   "nbconvert_exporter": "python",
   "pygments_lexer": "ipython3",
   "version": "3.10.5"
  }
 },
 "nbformat": 4,
 "nbformat_minor": 2
}
